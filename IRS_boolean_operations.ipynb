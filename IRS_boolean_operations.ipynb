{
  "nbformat": 4,
  "nbformat_minor": 0,
  "metadata": {
    "colab": {
      "provenance": [],
      "authorship_tag": "ABX9TyOKRYN/sRHmoOpTNojTmfdK",
      "include_colab_link": true
    },
    "kernelspec": {
      "name": "python3",
      "display_name": "Python 3"
    },
    "language_info": {
      "name": "python"
    }
  },
  "cells": [
    {
      "cell_type": "markdown",
      "metadata": {
        "id": "view-in-github",
        "colab_type": "text"
      },
      "source": [
        "<a href=\"https://colab.research.google.com/github/Mounika3112/DA/blob/main/IRS_boolean_operations.ipynb\" target=\"_parent\"><img src=\"https://colab.research.google.com/assets/colab-badge.svg\" alt=\"Open In Colab\"/></a>"
      ]
    },
    {
      "cell_type": "code",
      "execution_count": null,
      "metadata": {
        "id": "bzEQL4JnjFGi",
        "colab": {
          "base_uri": "https://localhost:8080/"
        },
        "outputId": "d473a16f-7f96-4de9-a288-32c49db9e94d"
      },
      "outputs": [
        {
          "output_type": "stream",
          "name": "stdout",
          "text": [
            "{'an': [2, 3], 'can': [3], 'come': [1], 'data': [2], 'down': [1], 'help': [3], 'index': [2], 'inverted': [2], 'structure': [2], 'temperature': [1], 'tomorrow': [1, 2, 3], 'will': [1, 3], 'you': [3]}\n"
          ]
        }
      ],
      "source": [
        "#NON POSITIONAL INVERTED INDEX\n",
        "\n",
        "p1=\"The temperature will come down tomorrow tomorrow \"                #with docId-1\n",
        "p2=\"An inverted, index is an index data structure. tomorrow \"         #with docId-2\n",
        "p3=\"Can I help you? tomorrow will\"                                    #with docId-3\n",
        "p1=p1.lower()\n",
        "p2=p2.lower()\n",
        "p3=p3.lower()\n",
        "p=p1+p2+p3\n",
        "p=list(set(p.split()))\n",
        "l1=['is','the','a','an','and','i','am','or','for']\n",
        "l2=[',','.','!','\"','\\'','?']\n",
        "\n",
        "#removal of stop words\n",
        "for x in p:\n",
        "  if x in l1:\n",
        "    p.remove(x)\n",
        "  \n",
        "for i in range(len(p)):\n",
        "  for x in p[i]:\n",
        "    if x in l2:\n",
        "      p[i]=p[i].replace(x,\"\")\n",
        "\n",
        "#dictionary with keys\n",
        "d={}\n",
        "for x in p:\n",
        "  d.update({x:[]})\n",
        "\n",
        "doc=[p1,p2,p3]\n",
        "s=[1,2,3]\n",
        "for x in d.keys():\n",
        "  for i in range(len(doc)):\n",
        "    if x in doc[i]:\n",
        "      d[x].append(s[i])\n",
        "d=dict(sorted(d.items()))\n",
        "\n",
        "print(d)\n",
        "\n",
        "\n"
      ]
    },
    {
      "cell_type": "markdown",
      "source": [
        "**POSITIONAL INVERTED INDEX**"
      ],
      "metadata": {
        "id": "tZsOz49vIqpT"
      }
    },
    {
      "cell_type": "code",
      "source": [
        "p1=\"The temperature will come down tomorrow tomorrow \"                    #with docId-1\n",
        "p2=\"An inverted index is an index data structure tomorrow \"               #with docId-2\n",
        "p3=\"Can I help you tomorrow will can Will\"                                #with docId-3\n",
        "p1=p1.lower()\n",
        "p2=p2.lower()\n",
        "p3=p3.lower()\n",
        "p=p1+p2+p3\n",
        "\n",
        "l1=['is','the','a','an','and','i']\n",
        "l2=[',','.','!','\"','\\'','?']\n",
        "p=list(set(p.split()))\n",
        "\n",
        "for x in p:\n",
        "  if x in l1:\n",
        "    p.remove(x)\n",
        "for i in range(len(p)):\n",
        "  for x in p[i]:\n",
        "    if x in l2:\n",
        "      p[i]=p[i].replace(x,\"\")\n",
        "  \n",
        "m={}\n",
        "for x in p:\n",
        "  m.update({x:{}})\n",
        "\n",
        "doc=[p1,p2,p3]\n",
        "s=[1,2,3]\n",
        "for x in m.keys():\n",
        "   for i in range(len(doc)):\n",
        "     t=list(doc[i].split())\n",
        "     for y in t:\n",
        "       if(y==x):\n",
        "         m[x].update({s[i]:[]})\n",
        "for x in m.keys():\n",
        "   for i in range(len(doc)):\n",
        "     t=list(doc[i].split())\n",
        "     for y in t:\n",
        "       if(y==x):\n",
        "         z=t.index(x)\n",
        "         t[z]=\",,,\"\n",
        "         m[x][s[i]].append(z)\n",
        "m=dict(sorted(m.items()))\n",
        "print(m)\n"
      ],
      "metadata": {
        "id": "3TkYMOa1Iv3Z",
        "colab": {
          "base_uri": "https://localhost:8080/"
        },
        "outputId": "7f838787-d3f2-488b-e1c6-02883e691f0c"
      },
      "execution_count": null,
      "outputs": [
        {
          "output_type": "stream",
          "name": "stdout",
          "text": [
            "{'an': {2: [0, 4]}, 'can': {3: [0, 6]}, 'come': {1: [3]}, 'data': {2: [6]}, 'down': {1: [4]}, 'help': {3: [2]}, 'index': {2: [2, 5]}, 'inverted': {2: [1]}, 'structure': {2: [7]}, 'temperature': {1: [1]}, 'tomorrow': {1: [5, 6], 2: [8], 3: [4]}, 'will': {1: [2], 3: [5, 7]}, 'you': {3: [3]}}\n"
          ]
        }
      ]
    },
    {
      "cell_type": "code",
      "source": [
        "print(s)"
      ],
      "metadata": {
        "colab": {
          "base_uri": "https://localhost:8080/"
        },
        "id": "xMSdplNa1Lg8",
        "outputId": "e9df918e-d966-469a-e62c-6566385c3772"
      },
      "execution_count": null,
      "outputs": [
        {
          "output_type": "stream",
          "name": "stdout",
          "text": [
            "[1, 2, 3]\n"
          ]
        }
      ]
    },
    {
      "cell_type": "markdown",
      "source": [
        "**BOOLEAN QUERIES**"
      ],
      "metadata": {
        "id": "2ZdqkO-_KUs7"
      }
    },
    {
      "cell_type": "code",
      "source": [
        "#priority\n",
        "\n",
        "def priority(op):\n",
        "  if(op=='not'):\n",
        "    return 3\n",
        "  elif(op=='and'):\n",
        "    return 2\n",
        "  elif(op=='or'):\n",
        "    return 1"
      ],
      "metadata": {
        "id": "XK69jv_xjzym"
      },
      "execution_count": null,
      "outputs": []
    },
    {
      "cell_type": "code",
      "source": [
        "def AND(posting1, posting2):\n",
        "  p1 = 0\n",
        "  p2 = 0\n",
        "  result = []\n",
        "  if(len(posting1)==0 or len(posting2)==0):\n",
        "    return result\n",
        "  while p1 < len(posting1) and p2 < len(posting2):\n",
        "    if posting1[p1] == posting2[p2]:\n",
        "      result.append(posting1[p1])\n",
        "      p1 += 1\n",
        "      p2 += 1\n",
        "    elif posting1[p1] > posting2[p2]:\n",
        "      p2 += 1\n",
        "    else:\n",
        "      p1 += 1\n",
        "  return result"
      ],
      "metadata": {
        "id": "CVJNHwFx2KHN"
      },
      "execution_count": null,
      "outputs": []
    },
    {
      "cell_type": "code",
      "source": [
        "def OR(posting1, posting2):\n",
        "    p1 = 0\n",
        "    p2 = 0\n",
        "    result = []\n",
        "    if(len(posting1)==0):\n",
        "      return posting2\n",
        "    if(len(posting2)==0):\n",
        "      return posting1\n",
        "    while p1 < len(posting1) and p2 < len(posting2):\n",
        "        if posting1[p1] == posting2[p2]:\n",
        "            result.append(posting1[p1])\n",
        "            p1 += 1\n",
        "            p2 += 1\n",
        "        elif posting1[p1] > posting2[p2]:\n",
        "            result.append(posting2[p2])\n",
        "            p2 += 1\n",
        "        else:\n",
        "            result.append(posting1[p1])\n",
        "            p1 += 1\n",
        "    while p1 < len(posting1):\n",
        "        result.append(posting1[p1])\n",
        "        p1 += 1\n",
        "    while p2 < len(posting2):\n",
        "        result.append(posting2[p2])\n",
        "        p2 += 1\n",
        "    return result"
      ],
      "metadata": {
        "id": "oEAArn7e_Nba"
      },
      "execution_count": null,
      "outputs": []
    },
    {
      "cell_type": "code",
      "source": [
        "def NOT(posting):\n",
        "    result = []\n",
        "    i = 1\n",
        "    for item in posting:\n",
        "      if(i>len(s)):\n",
        "        break\n",
        "      if item==i:\n",
        "        i= i+1\n",
        "      else:\n",
        "        result.append(i)\n",
        "        i += 1\n",
        "    return result"
      ],
      "metadata": {
        "id": "-V0E8jFCADmF"
      },
      "execution_count": null,
      "outputs": []
    },
    {
      "cell_type": "code",
      "source": [
        "operator=['not','and','or']"
      ],
      "metadata": {
        "id": "R-LgyhUqf7a8"
      },
      "execution_count": null,
      "outputs": []
    },
    {
      "cell_type": "code",
      "source": [
        "def postfix(query):\n",
        "  output=[]\n",
        "  stack=[]\n",
        "  for i in range(len(query)):\n",
        "    if query[i] in operator:\n",
        "      if(stack==[]):\n",
        "        stack.append(query[i])\n",
        "      elif(priority(query[i])>priority(stack[-1])):\n",
        "        stack.append(query[i])\n",
        "      elif(priority(query[i])<priority(stack[-1])):\n",
        "        while(stack!=[] and priority(query[i])<priority(stack[-1])):\n",
        "          output.append(stack.pop())\n",
        "        stack.append(query[i])\n",
        "    else:\n",
        "      output.append(query[i])\n",
        "  while(stack!=[]):\n",
        "    output.append(stack.pop())\n",
        "  return output"
      ],
      "metadata": {
        "id": "QeGOt32lyumL"
      },
      "execution_count": null,
      "outputs": []
    },
    {
      "cell_type": "code",
      "source": [
        "def process_query(q):\n",
        "  q=q.split()\n",
        "  postfix_query=postfix(q)\n",
        "  result=[]\n",
        "  for k in postfix_query:\n",
        "    if(k!='and' and k!='or' and k!='not'):\n",
        "      result.append(d[k])\n",
        "    elif(k=='not'):\n",
        "      w1=result.pop()\n",
        "      result.append(NOT(w1))\n",
        "    elif(k=='and'):\n",
        "      w1=result.pop()\n",
        "      w2=result.pop()\n",
        "      result.append(AND(w1,w2))\n",
        "    elif(k=='or'):\n",
        "      w1=result.pop()\n",
        "      w2=result.pop()\n",
        "      result.append(OR(w1,w2))\n",
        "  return result.pop()"
      ],
      "metadata": {
        "id": "wR2oSGiL3Cja"
      },
      "execution_count": null,
      "outputs": []
    },
    {
      "cell_type": "code",
      "source": [
        "que=input(\"enter query: \").lower()\n",
        "print(process_query(que))"
      ],
      "metadata": {
        "colab": {
          "base_uri": "https://localhost:8080/"
        },
        "id": "8Q6ubk5q3coO",
        "outputId": "8b78e2a2-3958-4f6e-9323-f9f29c6453f7"
      },
      "execution_count": null,
      "outputs": [
        {
          "output_type": "stream",
          "name": "stdout",
          "text": [
            "enter query: will and not help\n",
            "[1]\n"
          ]
        }
      ]
    },
    {
      "cell_type": "code",
      "source": [
        "import nltk\n",
        "from nltk.stem.porter import PorterStemmer\n",
        "ps=PorterStemmer()\n",
        "words=['fishing','fishes','fished']\n",
        "for w in words:\n",
        "  print(w+'.....'+ps.stem(w))"
      ],
      "metadata": {
        "colab": {
          "base_uri": "https://localhost:8080/"
        },
        "id": "SgKC75j_NQ8f",
        "outputId": "a36a92bf-6aab-4674-9068-e74bfbcf492e"
      },
      "execution_count": null,
      "outputs": [
        {
          "output_type": "stream",
          "name": "stdout",
          "text": [
            "fishing.....fish\n",
            "fishes.....fish\n",
            "fished.....fish\n"
          ]
        }
      ]
    }
  ]
}