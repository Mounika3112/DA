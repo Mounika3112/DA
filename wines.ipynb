{
 "cells": [
  {
   "cell_type": "code",
   "execution_count": 1,
   "id": "0e97d89b",
   "metadata": {},
   "outputs": [],
   "source": [
    "import numpy as np"
   ]
  },
  {
   "cell_type": "code",
   "execution_count": 111,
   "id": "fec27210",
   "metadata": {},
   "outputs": [],
   "source": [
    "file=open(\"winequality-red (2).csv\")"
   ]
  },
  {
   "cell_type": "code",
   "execution_count": 112,
   "id": "9133da51",
   "metadata": {},
   "outputs": [],
   "source": [
    "wines=np.genfromtxt(\"winequality-red (2).csv\",delimiter=\";\",dtype=float,skip_header=1)"
   ]
  },
  {
   "cell_type": "code",
   "execution_count": 67,
   "id": "c3203c11",
   "metadata": {},
   "outputs": [],
   "source": [
    "wines=np.loadtxt(\"winequality-red (2).csv\",delimiter=\";\",dtype=float,skiprows=1)"
   ]
  },
  {
   "cell_type": "code",
   "execution_count": 113,
   "id": "8c271cff",
   "metadata": {},
   "outputs": [],
   "source": [
    "# print(wines)"
   ]
  },
  {
   "cell_type": "code",
   "execution_count": 51,
   "id": "8889d98e",
   "metadata": {},
   "outputs": [
    {
     "name": "stdout",
     "output_type": "stream",
     "text": [
      "(1599, 12)\n"
     ]
    }
   ],
   "source": [
    "print(wines.shape)"
   ]
  },
  {
   "cell_type": "code",
   "execution_count": 29,
   "id": "4f30c640",
   "metadata": {},
   "outputs": [
    {
     "name": "stdout",
     "output_type": "stream",
     "text": [
      "0.075\n"
     ]
    }
   ],
   "source": [
    "print(wines[3,4])"
   ]
  },
  {
   "cell_type": "code",
   "execution_count": 30,
   "id": "b71dfc0c",
   "metadata": {},
   "outputs": [
    {
     "name": "stdout",
     "output_type": "stream",
     "text": [
      "[0.076 0.098 0.092]\n"
     ]
    }
   ],
   "source": [
    "print(wines[:3,4])"
   ]
  },
  {
   "cell_type": "code",
   "execution_count": 31,
   "id": "1a30fe95",
   "metadata": {},
   "outputs": [
    {
     "name": "stdout",
     "output_type": "stream",
     "text": [
      "[0.   0.   0.04 ... 0.13 0.12 0.47]\n"
     ]
    }
   ],
   "source": [
    "print(wines[:,2])"
   ]
  },
  {
   "cell_type": "code",
   "execution_count": 32,
   "id": "aa2cf16c",
   "metadata": {},
   "outputs": [
    {
     "name": "stdout",
     "output_type": "stream",
     "text": [
      "[11.2    0.28   0.56   1.9    0.075 17.    60.     0.998  3.16   0.58\n",
      "  9.8    6.   ]\n"
     ]
    }
   ],
   "source": [
    "print(wines[3,])"
   ]
  },
  {
   "cell_type": "code",
   "execution_count": 33,
   "id": "e34e93ff",
   "metadata": {},
   "outputs": [
    {
     "data": {
      "text/plain": [
       "54.0"
      ]
     },
     "execution_count": 33,
     "metadata": {},
     "output_type": "execute_result"
    }
   ],
   "source": [
    "wines[2,6]"
   ]
  },
  {
   "cell_type": "code",
   "execution_count": 69,
   "id": "97229724",
   "metadata": {},
   "outputs": [],
   "source": [
    "wines[2,6]=10"
   ]
  },
  {
   "cell_type": "code",
   "execution_count": 60,
   "id": "f1ee3848",
   "metadata": {},
   "outputs": [
    {
     "data": {
      "text/plain": [
       "10.0"
      ]
     },
     "execution_count": 60,
     "metadata": {},
     "output_type": "execute_result"
    }
   ],
   "source": [
    "wines[2,6]"
   ]
  },
  {
   "cell_type": "code",
   "execution_count": 65,
   "id": "4b535723",
   "metadata": {},
   "outputs": [
    {
     "name": "stdout",
     "output_type": "stream",
     "text": [
      "[666. 666. 666. ... 666. 666. 666.]\n"
     ]
    }
   ],
   "source": [
    "slice_new=wines[:,10]\n",
    "print(slice_new)"
   ]
  },
  {
   "cell_type": "code",
   "execution_count": 62,
   "id": "e36d448b",
   "metadata": {},
   "outputs": [
    {
     "name": "stdout",
     "output_type": "stream",
     "text": [
      "[666. 666. 666. ... 666. 666. 666.]\n"
     ]
    }
   ],
   "source": [
    "slice_new[:]=666\n",
    "print(slice_new)"
   ]
  },
  {
   "cell_type": "code",
   "execution_count": 70,
   "id": "42eda642",
   "metadata": {},
   "outputs": [
    {
     "name": "stdout",
     "output_type": "stream",
     "text": [
      "[[ 7.4    0.7    0.    ...  0.56   9.4    5.   ]\n",
      " [ 7.8    0.88   0.    ...  0.68   9.8    5.   ]\n",
      " [ 7.8    0.76   0.04  ...  0.65   9.8    5.   ]\n",
      " ...\n",
      " [ 6.3    0.51   0.13  ...  0.75  11.     6.   ]\n",
      " [ 5.9    0.645  0.12  ...  0.71  10.2    5.   ]\n",
      " [ 6.     0.31   0.47  ...  0.66  11.     6.   ]]\n"
     ]
    }
   ],
   "source": [
    "print(wines)"
   ]
  },
  {
   "cell_type": "code",
   "execution_count": 71,
   "id": "b15f2a1e",
   "metadata": {},
   "outputs": [
    {
     "name": "stdout",
     "output_type": "stream",
     "text": [
      "float64\n"
     ]
    }
   ],
   "source": [
    "print(wines.dtype)"
   ]
  },
  {
   "cell_type": "code",
   "execution_count": 72,
   "id": "7b252ea2",
   "metadata": {},
   "outputs": [],
   "source": [
    "wines=wines.astype(int)"
   ]
  },
  {
   "cell_type": "code",
   "execution_count": 45,
   "id": "93d5cb14",
   "metadata": {},
   "outputs": [
    {
     "name": "stdout",
     "output_type": "stream",
     "text": [
      "int32\n"
     ]
    }
   ],
   "source": [
    "print(wines.dtype)"
   ]
  },
  {
   "cell_type": "code",
   "execution_count": 46,
   "id": "58dbcd5c",
   "metadata": {},
   "outputs": [
    {
     "name": "stdout",
     "output_type": "stream",
     "text": [
      "[[ 7  0  0 ...  0  9  5]\n",
      " [ 7  0  0 ...  0  9  5]\n",
      " [ 7  0  0 ...  0  9  5]\n",
      " ...\n",
      " [ 6  0  0 ...  0 11  6]\n",
      " [ 5  0  0 ...  0 10  5]\n",
      " [ 6  0  0 ...  0 11  6]]\n"
     ]
    }
   ],
   "source": [
    "print(wines)"
   ]
  },
  {
   "cell_type": "code",
   "execution_count": 73,
   "id": "b2373fe0",
   "metadata": {},
   "outputs": [
    {
     "name": "stdout",
     "output_type": "stream",
     "text": [
      "[[ 7  0  0 ...  0  9 15]\n",
      " [ 7  0  0 ...  0  9 15]\n",
      " [ 7  0  0 ...  0  9 15]\n",
      " ...\n",
      " [ 6  0  0 ...  0 11 16]\n",
      " [ 5  0  0 ...  0 10 15]\n",
      " [ 6  0  0 ...  0 11 16]]\n"
     ]
    }
   ],
   "source": [
    "wines[:,-1]=wines[:,-1]+10\n",
    "print(wines)"
   ]
  },
  {
   "cell_type": "code",
   "execution_count": 74,
   "id": "9afb306b",
   "metadata": {},
   "outputs": [
    {
     "name": "stdout",
     "output_type": "stream",
     "text": [
      "161485\n"
     ]
    }
   ],
   "source": [
    "print(np.sum(wines))"
   ]
  },
  {
   "cell_type": "code",
   "execution_count": 75,
   "id": "bbbcd1fe",
   "metadata": {},
   "outputs": [
    {
     "name": "stdout",
     "output_type": "stream",
     "text": [
      "12589\n"
     ]
    }
   ],
   "source": [
    "print(np.sum(wines[:,0]))"
   ]
  },
  {
   "cell_type": "code",
   "execution_count": 76,
   "id": "04736d29",
   "metadata": {},
   "outputs": [
    {
     "name": "stdout",
     "output_type": "stream",
     "text": [
      "[ 80 128  61 ... 107 111  99]\n"
     ]
    }
   ],
   "source": [
    "print(np.sum(wines,axis=1))"
   ]
  },
  {
   "cell_type": "code",
   "execution_count": 77,
   "id": "d2f23fe9",
   "metadata": {},
   "outputs": [
    {
     "name": "stdout",
     "output_type": "stream",
     "text": [
      "[12589    24     1  3350     0 25382 74257    81  4770    60 15969 25002]\n"
     ]
    }
   ],
   "source": [
    "print(np.sum(wines,axis=0))"
   ]
  },
  {
   "cell_type": "code",
   "execution_count": 78,
   "id": "bbb5fe26",
   "metadata": {},
   "outputs": [
    {
     "name": "stdout",
     "output_type": "stream",
     "text": [
      "[[ 7  0  0 ...  0  9 30]\n",
      " [ 7  0  0 ...  0  9 30]\n",
      " [ 7  0  0 ...  0  9 30]\n",
      " ...\n",
      " [ 6  0  0 ...  0 11 32]\n",
      " [ 5  0  0 ...  0 10 30]\n",
      " [ 6  0  0 ...  0 11 32]]\n"
     ]
    }
   ],
   "source": [
    "wines[:,-1]=wines[:,-1]+wines[:,-1]\n",
    "print(wines)"
   ]
  },
  {
   "cell_type": "code",
   "execution_count": 79,
   "id": "6d66f1c5",
   "metadata": {},
   "outputs": [
    {
     "name": "stdout",
     "output_type": "stream",
     "text": [
      "[[  7   0   0 ...   0 270  30]\n",
      " [  7   0   0 ...   0 270  30]\n",
      " [  7   0   0 ...   0 270  30]\n",
      " ...\n",
      " [  6   0   0 ...   0 352  32]\n",
      " [  5   0   0 ...   0 300  30]\n",
      " [  6   0   0 ...   0 352  32]]\n"
     ]
    }
   ],
   "source": [
    "wines[:,-2]=wines[:,-2]*wines[:,-1]\n",
    "print(wines)"
   ]
  },
  {
   "cell_type": "code",
   "execution_count": 81,
   "id": "749ad68f",
   "metadata": {},
   "outputs": [
    {
     "name": "stdout",
     "output_type": "stream",
     "text": [
      "[ True  True  True ...  True  True  True]\n"
     ]
    }
   ],
   "source": [
    "print(wines[:,-1]>5)"
   ]
  },
  {
   "cell_type": "code",
   "execution_count": 83,
   "id": "e529492e",
   "metadata": {},
   "outputs": [
    {
     "name": "stdout",
     "output_type": "stream",
     "text": [
      "[False False False ... False False False]\n"
     ]
    }
   ],
   "source": [
    "print(wines[:,-1]==10)"
   ]
  },
  {
   "cell_type": "code",
   "execution_count": 84,
   "id": "9a0bf84f",
   "metadata": {},
   "outputs": [
    {
     "name": "stdout",
     "output_type": "stream",
     "text": [
      "[ True  True  True ...  True  True  True]\n"
     ]
    }
   ],
   "source": [
    "print(wines[:,-1]>7)"
   ]
  },
  {
   "cell_type": "code",
   "execution_count": 97,
   "id": "f05261aa",
   "metadata": {},
   "outputs": [
    {
     "name": "stdout",
     "output_type": "stream",
     "text": [
      "[False False False ... False False False]\n"
     ]
    }
   ],
   "source": [
    "a=wines[:,-1]>7\n",
    "b=wines[:,-3]>10\n",
    "print(b[a])"
   ]
  },
  {
   "cell_type": "code",
   "execution_count": 98,
   "id": "1f2e2a34",
   "metadata": {},
   "outputs": [
    {
     "name": "stdout",
     "output_type": "stream",
     "text": [
      "(1599, 12)\n"
     ]
    }
   ],
   "source": [
    "print(wines.shape)"
   ]
  },
  {
   "cell_type": "code",
   "execution_count": 102,
   "id": "0a929461",
   "metadata": {},
   "outputs": [],
   "source": [
    "wines=wines.reshape(12,1599)"
   ]
  },
  {
   "cell_type": "code",
   "execution_count": 103,
   "id": "0dba4e0e",
   "metadata": {},
   "outputs": [
    {
     "name": "stdout",
     "output_type": "stream",
     "text": [
      "(12, 1599)\n"
     ]
    }
   ],
   "source": [
    "print(wines.shape)\n"
   ]
  },
  {
   "cell_type": "code",
   "execution_count": 104,
   "id": "26009ea4",
   "metadata": {},
   "outputs": [
    {
     "name": "stdout",
     "output_type": "stream",
     "text": [
      "[[  7   0   0 ...   6   0   0]\n",
      " [  1   0  17 ...   3   0  26]\n",
      " [ 61   1   3 ...  42   0   3]\n",
      " ...\n",
      " [  2   0  23 ...   1   0   6]\n",
      " [ 25   0   3 ...  53   0   3]\n",
      " [  0 270  30 ...   0 352  32]]\n"
     ]
    }
   ],
   "source": [
    "print(wines)"
   ]
  }
 ],
 "metadata": {
  "kernelspec": {
   "display_name": "Python 3 (ipykernel)",
   "language": "python",
   "name": "python3"
  },
  "language_info": {
   "codemirror_mode": {
    "name": "ipython",
    "version": 3
   },
   "file_extension": ".py",
   "mimetype": "text/x-python",
   "name": "python",
   "nbconvert_exporter": "python",
   "pygments_lexer": "ipython3",
   "version": "3.9.7"
  }
 },
 "nbformat": 4,
 "nbformat_minor": 5
}
