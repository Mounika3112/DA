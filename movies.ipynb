{
 "cells": [
  {
   "cell_type": "code",
   "execution_count": 8,
   "id": "48d2cacf",
   "metadata": {},
   "outputs": [],
   "source": [
    "import numpy as np\n",
    "import pandas as pd"
   ]
  },
  {
   "cell_type": "code",
   "execution_count": 100,
   "id": "ef4751d7",
   "metadata": {},
   "outputs": [],
   "source": [
    "file=open(\"movies.csv\")"
   ]
  },
  {
   "cell_type": "code",
   "execution_count": 101,
   "id": "05811710",
   "metadata": {},
   "outputs": [],
   "source": [
    "movies=pd.read_csv(\"movies.csv\")"
   ]
  },
  {
   "cell_type": "code",
   "execution_count": 82,
   "id": "8beb442c",
   "metadata": {},
   "outputs": [
    {
     "name": "stdout",
     "output_type": "stream",
     "text": [
      "no of movies released in every month of the year 1995\n",
      "{'Apr': 5, 'Aug': 7, 'Dec': 13, 'Feb': 2, 'Jan': 3, 'Jul': 8, 'Jun': 7, 'Mar': 3, 'May': 6, 'Nov': 7, 'Oct': 8, 'Sep': 4}\n",
      "\n",
      " no. of movies released in every year from 1990 to 1998\n",
      "{'1991': 3, '1993': 2, '90': 28, '91': 30, '92': 28, '93': 37, '94': 52, '95': 73, '96': 99, '97': 97, '98': 144}\n"
     ]
    }
   ],
   "source": [
    "l=movies['Release Date']\n",
    "d={}     #for every month\n",
    "d1={}    #for every year\n",
    "for x in l:\n",
    "    x=x.split(\"-\")\n",
    "    if(x[-1]=='95' or x[-1]=='1995'):\n",
    "        if x[-2] not in d.keys():\n",
    "            d[x[-2]]=1\n",
    "        else:\n",
    "            d[x[-2]]=d[x[-2]]+1\n",
    "    if((x[-1]>='90' and x[-1]<='98') or (x[-1]>='1990' and x[-1]<=\"1998\")):\n",
    "        if x[-1] not in d1.keys():\n",
    "            d1[x[-1]]=1\n",
    "        else:\n",
    "            d1[x[-1]]=d1[x[-1]]+1\n",
    "print(\"no of movies released in every month of the year 1995\")\n",
    "print(dict(sorted(d.items())))\n",
    "print(\"\\n no. of movies released in every year from 1990 to 1998\")\n",
    "print(dict(sorted(d1.items())))"
   ]
  },
  {
   "cell_type": "code",
   "execution_count": 81,
   "id": "5b2c41dc",
   "metadata": {},
   "outputs": [
    {
     "name": "stdout",
     "output_type": "stream",
     "text": [
      "{'Action': 420, 'Adventure': 274, 'Black Comedy': 36, 'Comedy': 675, 'Concert/Performance': 5, 'Documentary': 43, 'Drama': 789, 'Horror': 219, 'Musical': 53, 'Romantic Comedy': 137, 'Thriller/Suspense': 239, 'Western': 36}\n"
     ]
    }
   ],
   "source": [
    "l1=movies['Major Genre']\n",
    "l1=l1.dropna()\n",
    "d2={}\n",
    "for x in l1:\n",
    "    if x not in d2.keys():\n",
    "        d2[x]=1\n",
    "    else:\n",
    "        d2[x]=d2[x]+1\n",
    "print(dict(sorted(d2.items())))"
   ]
  },
  {
   "cell_type": "code",
   "execution_count": 110,
   "id": "1d5ab268",
   "metadata": {},
   "outputs": [
    {
     "name": "stdout",
     "output_type": "stream",
     "text": [
      "{'Drama': [], 'Comedy': [], 'Musical': [], 'Thriller/Suspense': [], 'Adventure': [], 'Action': [], 'Romantic Comedy': [], 'Horror': [], 'Western': [], 'Documentary': [], 'Black Comedy': [], 'Concert/Performance': []}\n"
     ]
    }
   ],
   "source": [
    "#Find the movies under each genre with 1MDB rating >7 and rotten tomatoes rating > 60.\n",
    "n=len(movies[\"Title\"])\n",
    "l2=movies['Major Genre']\n",
    "l2=l2.dropna()\n",
    "d3={}\n",
    "for x in l2:\n",
    "    if x not in d3.keys():\n",
    "        d3[x]=[]\n",
    "# for i in range(n):\n",
    "#     if(movies[\"IMDB Rating\"][i]>7 and movies[\"Rotten Tomatoes Rating\"][i]>60):\n",
    "#         if d3[movies[\"Major Genre\"][i]] in d3.keys():\n",
    "#             d3[movies[\"Major Genre\"][i]].append(movies[\"Title\"][i])\n",
    "print(d3)"
   ]
  }
 ],
 "metadata": {
  "kernelspec": {
   "display_name": "Python 3 (ipykernel)",
   "language": "python",
   "name": "python3"
  },
  "language_info": {
   "codemirror_mode": {
    "name": "ipython",
    "version": 3
   },
   "file_extension": ".py",
   "mimetype": "text/x-python",
   "name": "python",
   "nbconvert_exporter": "python",
   "pygments_lexer": "ipython3",
   "version": "3.9.7"
  }
 },
 "nbformat": 4,
 "nbformat_minor": 5
}
